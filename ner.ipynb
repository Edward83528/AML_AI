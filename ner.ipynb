{
 "cells": [
  {
   "cell_type": "code",
   "execution_count": null,
   "metadata": {},
   "outputs": [],
   "source": [
    "import json; #爬網站資料格式需要\n",
    "import requests; #爬網站資料需要"
   ]
  },
  {
   "cell_type": "code",
   "execution_count": null,
   "metadata": {},
   "outputs": [],
   "source": [
    "with open('AML_NER.json','r',encoding=\"utf-8\") as load_f:\n",
    "    load_list = json.load(load_f)\n",
    "\n",
    "#print(type(load_list))\n",
    "for i in range(0,len(load_list)-1):\n",
    "    if load_list[i]['pid'] == 4597:\n",
    "        load_list[i]['title']=load_list[i]['title'].replace(\"宋姓女子\", \"宋芷妍\").replace(\"王姓男子\", \"王安石\")\n",
    "        load_list[i]['context']=load_list[i]['context'].replace(\"宋姓女子\", \"宋芷妍\").replace(\"王姓男子\", \"王安石\")\n",
    "        load_list[i]['person']=load_list[i]['name']\n",
    "    elif load_list[i]['pid'] == 121:\n",
    "        load_list[i]['name']=\"['林良琪', '戴吟曲']\"\n",
    "    "
   ]
  },
  {
   "cell_type": "code",
   "execution_count": null,
   "metadata": {},
   "outputs": [],
   "source": [
    "print('done')"
   ]
  },
  {
   "cell_type": "code",
   "execution_count": null,
   "metadata": {},
   "outputs": [],
   "source": [
    "import json\n",
    "import numpy as np\n",
    "import codecs\n",
    "\n",
    "class NpEncoder(json.JSONEncoder):\n",
    "    def default(self, obj):\n",
    "        if isinstance(obj, np.integer):\n",
    "            return int(obj)\n",
    "        elif isinstance(obj, np.floating):\n",
    "            return float(obj)\n",
    "        elif isinstance(obj, np.ndarray):\n",
    "            return obj.tolist()\n",
    "        else:\n",
    "            return super(NpEncoder, self).default(obj)"
   ]
  },
  {
   "cell_type": "code",
   "execution_count": null,
   "metadata": {},
   "outputs": [],
   "source": [
    "row_json = json.dumps(load_list, ensure_ascii=False,cls=NpEncoder)\n",
    "file = codecs.open('AML_NER2.json', 'w', encoding='utf-8')\n",
    "file.write(row_json)\n",
    "file.close()\n",
    "print(\"json Done\")"
   ]
  }
 ],
 "metadata": {
  "kernelspec": {
   "display_name": "Python 3",
   "language": "python",
   "name": "python3"
  },
  "language_info": {
   "codemirror_mode": {
    "name": "ipython",
    "version": 3
   },
   "file_extension": ".py",
   "mimetype": "text/x-python",
   "name": "python",
   "nbconvert_exporter": "python",
   "pygments_lexer": "ipython3",
   "version": "3.7.3"
  }
 },
 "nbformat": 4,
 "nbformat_minor": 2
}
