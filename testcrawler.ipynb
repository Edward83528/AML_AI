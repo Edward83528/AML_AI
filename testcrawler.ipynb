{
 "cells": [
  {
   "cell_type": "markdown",
   "metadata": {},
   "source": [
    "# AML洗錢防制預測"
   ]
  },
  {
   "cell_type": "markdown",
   "metadata": {},
   "source": [
    "## 引入套件"
   ]
  },
  {
   "cell_type": "code",
   "execution_count": 1,
   "metadata": {},
   "outputs": [],
   "source": [
    "import pandas as pd"
   ]
  },
  {
   "cell_type": "code",
   "execution_count": 2,
   "metadata": {},
   "outputs": [
    {
     "data": {
      "text/plain": [
       "<bound method DataFrame.info of       news_ID                                          hyperlink  \\\n",
       "0           1             https://news.cnyes.com/news/id/4352432   \n",
       "1           2          https://udn.com/news/story/120775/4112519   \n",
       "2           3   https://www.mirrormedia.mg/story/20191008soc011/   \n",
       "3           4  https://www.chinatimes.com/realtimenews/201909...   \n",
       "4           5  http://domestic.judicial.gov.tw/abbs/wkw/WHD9H...   \n",
       "...       ...                                                ...   \n",
       "5018     5019          https://udn.com/news/story/120538/4032584   \n",
       "5019     5020             https://news.cnyes.com/news/id/4357901   \n",
       "5020     5021              http://www.coolloud.org.tw/node/93286   \n",
       "5021     5022  https://www.chinatimes.com/realtimenews/201907...   \n",
       "5022     5023             https://news.cnyes.com/news/id/4375179   \n",
       "\n",
       "                                                content name  \n",
       "0     0理財基金量化交易追求絕對報酬有效對抗牛熊市鉅亨網記者鄭心芸2019/07/05 22:35...   []  \n",
       "1     10月13日晚間發生Uber Eats黃姓外送人員職災死亡案件 ### 省略內文 ### 北...   []  \n",
       "2     2019.10.08 01:53【法拍有詭4】飯店遭管委會斷水斷電員工怒吼：生計何去何從？文...   []  \n",
       "3     58歲林姓男子昨凌晨與朋友聚餐結束後 ### 省略內文 ### 而地點就距離林家僅30公尺。...   []  \n",
       "4     例稿名稱：臺灣屏東地方法院公示催告公告發文日期：中華民國108年9月20日發文字號：屏院進家...   []  \n",
       "...                                                 ...  ...  \n",
       "5018  「一碗水救不了森林大火」香港抗議者不理特首撤回修例繼續在各地示威路透社香港特首林鄭月娥4日宣...   []  \n",
       "5019  0台股台股盤勢【華冠投顧】OTC轉強小樹走高華冠投顧※來源：華冠投顧2019/07/15 1...   []  \n",
       "5020      近日教育部在媒體上宣布駁回世新大學社發所的停招申請案 ### 省略內文 ### 造成...   []  \n",
       "5021  史上金額最大開發案「台北雙子星」最優申請人「南海團隊」香港商南海發展有限公司、馬來西亞商馬頓...   []  \n",
       "5022  0期貨股票影/今年上半年三大股票期貨交易策略最賺錢鉅亨網記者鄭心芸、李佳泓2019/09/0...   []  \n",
       "\n",
       "[5023 rows x 4 columns]>"
      ]
     },
     "execution_count": 2,
     "metadata": {},
     "output_type": "execute_result"
    }
   ],
   "source": [
    "df=pd.read_csv('dataset/tbrain_train_final_0610.csv')\n",
    "df.info # [5023 rows x 4 columns]"
   ]
  },
  {
   "cell_type": "code",
   "execution_count": 3,
   "metadata": {},
   "outputs": [
    {
     "data": {
      "text/html": [
       "<div>\n",
       "<style scoped>\n",
       "    .dataframe tbody tr th:only-of-type {\n",
       "        vertical-align: middle;\n",
       "    }\n",
       "\n",
       "    .dataframe tbody tr th {\n",
       "        vertical-align: top;\n",
       "    }\n",
       "\n",
       "    .dataframe thead th {\n",
       "        text-align: right;\n",
       "    }\n",
       "</style>\n",
       "<table border=\"1\" class=\"dataframe\">\n",
       "  <thead>\n",
       "    <tr style=\"text-align: right;\">\n",
       "      <th></th>\n",
       "      <th>news_ID</th>\n",
       "      <th>hyperlink</th>\n",
       "      <th>content</th>\n",
       "      <th>name</th>\n",
       "    </tr>\n",
       "  </thead>\n",
       "  <tbody>\n",
       "    <tr>\n",
       "      <th>0</th>\n",
       "      <td>1</td>\n",
       "      <td>https://news.cnyes.com/news/id/4352432</td>\n",
       "      <td>0理財基金量化交易追求絕對報酬有效對抗牛熊市鉅亨網記者鄭心芸2019/07/05 22:35...</td>\n",
       "      <td>[]</td>\n",
       "    </tr>\n",
       "    <tr>\n",
       "      <th>1</th>\n",
       "      <td>2</td>\n",
       "      <td>https://udn.com/news/story/120775/4112519</td>\n",
       "      <td>10月13日晚間發生Uber Eats黃姓外送人員職災死亡案件 ### 省略內文 ### 北...</td>\n",
       "      <td>[]</td>\n",
       "    </tr>\n",
       "    <tr>\n",
       "      <th>2</th>\n",
       "      <td>3</td>\n",
       "      <td>https://www.mirrormedia.mg/story/20191008soc011/</td>\n",
       "      <td>2019.10.08 01:53【法拍有詭4】飯店遭管委會斷水斷電員工怒吼：生計何去何從？文...</td>\n",
       "      <td>[]</td>\n",
       "    </tr>\n",
       "    <tr>\n",
       "      <th>3</th>\n",
       "      <td>4</td>\n",
       "      <td>https://www.chinatimes.com/realtimenews/201909...</td>\n",
       "      <td>58歲林姓男子昨凌晨與朋友聚餐結束後 ### 省略內文 ### 而地點就距離林家僅30公尺。...</td>\n",
       "      <td>[]</td>\n",
       "    </tr>\n",
       "    <tr>\n",
       "      <th>4</th>\n",
       "      <td>5</td>\n",
       "      <td>http://domestic.judicial.gov.tw/abbs/wkw/WHD9H...</td>\n",
       "      <td>例稿名稱：臺灣屏東地方法院公示催告公告發文日期：中華民國108年9月20日發文字號：屏院進家...</td>\n",
       "      <td>[]</td>\n",
       "    </tr>\n",
       "    <tr>\n",
       "      <th>5</th>\n",
       "      <td>6</td>\n",
       "      <td>http://www.coolloud.org.tw/node/93356</td>\n",
       "      <td>內政部都市計畫委員會委員為審查大社工業區是否降為乙種工業區 ### 省略內文 ### 市區拒...</td>\n",
       "      <td>[]</td>\n",
       "    </tr>\n",
       "    <tr>\n",
       "      <th>6</th>\n",
       "      <td>7</td>\n",
       "      <td>https://m.ctee.com.tw/livenews/gj/ctee/a076720...</td>\n",
       "      <td>華為創辦人任正非接受英國媒體訪問時表示 ### 省略內文 ### 重申中國和加拿大兩國之間的...</td>\n",
       "      <td>[]</td>\n",
       "    </tr>\n",
       "    <tr>\n",
       "      <th>7</th>\n",
       "      <td>8</td>\n",
       "      <td>https://www.mirrormedia.mg/story/20191209edi009/</td>\n",
       "      <td>2019.12.09 08:00「再教育營學員全已結業」新疆自治區主席：他們過上了幸福生活文...</td>\n",
       "      <td>[]</td>\n",
       "    </tr>\n",
       "    <tr>\n",
       "      <th>8</th>\n",
       "      <td>9</td>\n",
       "      <td>https://www.chinatimes.com/newspapers/20190827...</td>\n",
       "      <td>交通部觀光局26日公布7月國際旅客情況 ### 省略內文 ### 只能長期培養。</td>\n",
       "      <td>[]</td>\n",
       "    </tr>\n",
       "    <tr>\n",
       "      <th>9</th>\n",
       "      <td>10</td>\n",
       "      <td>https://news.cnyes.com/news/id/4365094</td>\n",
       "      <td>0理財基金基金汰弱留強該怎麼做？鉅亨買基金2019/08/06 21:30facebook ...</td>\n",
       "      <td>[]</td>\n",
       "    </tr>\n",
       "    <tr>\n",
       "      <th>10</th>\n",
       "      <td>11</td>\n",
       "      <td>https://mops.twse.com.tw/mops/web/t05st02?step...</td>\n",
       "      <td>上福全球公司當日重大訊息之詳細內容本資料由(上市公司)上福全球公司提供&lt;BR&gt;序號1發言日期...</td>\n",
       "      <td>[]</td>\n",
       "    </tr>\n",
       "    <tr>\n",
       "      <th>11</th>\n",
       "      <td>12</td>\n",
       "      <td>https://www.hk01.com/社會新聞/383851/逃犯條例-建造業議會指立法...</td>\n",
       "      <td>反修例風波持續 ### 省略內文 ### 亦憂慮前景。建造業議會促請立法會加快通過工務工程項...</td>\n",
       "      <td>[]</td>\n",
       "    </tr>\n",
       "    <tr>\n",
       "      <th>12</th>\n",
       "      <td>13</td>\n",
       "      <td>https://www.chinatimes.com/newspapers/20191223...</td>\n",
       "      <td>2020貿易戰降溫 ### 省略內文 ### 配發順序優於普通股。</td>\n",
       "      <td>[]</td>\n",
       "    </tr>\n",
       "    <tr>\n",
       "      <th>13</th>\n",
       "      <td>14</td>\n",
       "      <td>https://www.wealth.com.tw/home/articles/22906</td>\n",
       "      <td>▲（圖／彭世杰攝）店面「遍地插秧」！陷入「賣不動 ### 省略內文 ### 因此日常開支總是...</td>\n",
       "      <td>[]</td>\n",
       "    </tr>\n",
       "    <tr>\n",
       "      <th>14</th>\n",
       "      <td>15</td>\n",
       "      <td>https://udn.com/news/story/7321/3845624</td>\n",
       "      <td>台北地院審理生產東亞燈具的上市公司中國電器掏空案 ### 省略內文 ### 掏空公司資產2億...</td>\n",
       "      <td>['周麗真', '張志偉', '陳逢璿']</td>\n",
       "    </tr>\n",
       "    <tr>\n",
       "      <th>15</th>\n",
       "      <td>16</td>\n",
       "      <td>https://m.ctee.com.tw/livenews/ch/chinatimes/2...</td>\n",
       "      <td>foodpanda爭議不斷 ### 省略內文 ### 協助員工進行勞資爭議申請與調解。</td>\n",
       "      <td>[]</td>\n",
       "    </tr>\n",
       "    <tr>\n",
       "      <th>16</th>\n",
       "      <td>17</td>\n",
       "      <td>https://news.cnyes.com/news/id/4361455</td>\n",
       "      <td>0台股台股盤勢【倫元投顧】碎步盤堅到月底Fed降息前後倫元投顧※來源：倫元投顧2019/07...</td>\n",
       "      <td>[]</td>\n",
       "    </tr>\n",
       "    <tr>\n",
       "      <th>17</th>\n",
       "      <td>18</td>\n",
       "      <td>https://news.ebc.net.tw/News/Article/162125</td>\n",
       "      <td>自稱房產幽默大師的王派宏 ### 省略內文 ### 能夠盡早面對。</td>\n",
       "      <td>['王派宏']</td>\n",
       "    </tr>\n",
       "    <tr>\n",
       "      <th>18</th>\n",
       "      <td>19</td>\n",
       "      <td>https://www.mirrormedia.mg/story/20191219fin001/</td>\n",
       "      <td>2019.12.19 04:34【如興遭檢舉1】牛仔褲大廠小股東控訴如興股價被干擾害他慘套牢...</td>\n",
       "      <td>[]</td>\n",
       "    </tr>\n",
       "    <tr>\n",
       "      <th>19</th>\n",
       "      <td>20</td>\n",
       "      <td>https://news.mingpao.com/ins/%e6%b8%af%e8%81%9...</td>\n",
       "      <td>(08:32) prevnext上午8時天文台錄得氣溫27度 ### 省略內文 ### 天氣稍涼。</td>\n",
       "      <td>[]</td>\n",
       "    </tr>\n",
       "  </tbody>\n",
       "</table>\n",
       "</div>"
      ],
      "text/plain": [
       "    news_ID                                          hyperlink  \\\n",
       "0         1             https://news.cnyes.com/news/id/4352432   \n",
       "1         2          https://udn.com/news/story/120775/4112519   \n",
       "2         3   https://www.mirrormedia.mg/story/20191008soc011/   \n",
       "3         4  https://www.chinatimes.com/realtimenews/201909...   \n",
       "4         5  http://domestic.judicial.gov.tw/abbs/wkw/WHD9H...   \n",
       "5         6              http://www.coolloud.org.tw/node/93356   \n",
       "6         7  https://m.ctee.com.tw/livenews/gj/ctee/a076720...   \n",
       "7         8   https://www.mirrormedia.mg/story/20191209edi009/   \n",
       "8         9  https://www.chinatimes.com/newspapers/20190827...   \n",
       "9        10             https://news.cnyes.com/news/id/4365094   \n",
       "10       11  https://mops.twse.com.tw/mops/web/t05st02?step...   \n",
       "11       12  https://www.hk01.com/社會新聞/383851/逃犯條例-建造業議會指立法...   \n",
       "12       13  https://www.chinatimes.com/newspapers/20191223...   \n",
       "13       14      https://www.wealth.com.tw/home/articles/22906   \n",
       "14       15            https://udn.com/news/story/7321/3845624   \n",
       "15       16  https://m.ctee.com.tw/livenews/ch/chinatimes/2...   \n",
       "16       17             https://news.cnyes.com/news/id/4361455   \n",
       "17       18        https://news.ebc.net.tw/News/Article/162125   \n",
       "18       19   https://www.mirrormedia.mg/story/20191219fin001/   \n",
       "19       20  https://news.mingpao.com/ins/%e6%b8%af%e8%81%9...   \n",
       "\n",
       "                                              content                   name  \n",
       "0   0理財基金量化交易追求絕對報酬有效對抗牛熊市鉅亨網記者鄭心芸2019/07/05 22:35...                     []  \n",
       "1   10月13日晚間發生Uber Eats黃姓外送人員職災死亡案件 ### 省略內文 ### 北...                     []  \n",
       "2   2019.10.08 01:53【法拍有詭4】飯店遭管委會斷水斷電員工怒吼：生計何去何從？文...                     []  \n",
       "3   58歲林姓男子昨凌晨與朋友聚餐結束後 ### 省略內文 ### 而地點就距離林家僅30公尺。...                     []  \n",
       "4   例稿名稱：臺灣屏東地方法院公示催告公告發文日期：中華民國108年9月20日發文字號：屏院進家...                     []  \n",
       "5   內政部都市計畫委員會委員為審查大社工業區是否降為乙種工業區 ### 省略內文 ### 市區拒...                     []  \n",
       "6   華為創辦人任正非接受英國媒體訪問時表示 ### 省略內文 ### 重申中國和加拿大兩國之間的...                     []  \n",
       "7   2019.12.09 08:00「再教育營學員全已結業」新疆自治區主席：他們過上了幸福生活文...                     []  \n",
       "8            交通部觀光局26日公布7月國際旅客情況 ### 省略內文 ### 只能長期培養。                     []  \n",
       "9   0理財基金基金汰弱留強該怎麼做？鉅亨買基金2019/08/06 21:30facebook ...                     []  \n",
       "10  上福全球公司當日重大訊息之詳細內容本資料由(上市公司)上福全球公司提供<BR>序號1發言日期...                     []  \n",
       "11  反修例風波持續 ### 省略內文 ### 亦憂慮前景。建造業議會促請立法會加快通過工務工程項...                     []  \n",
       "12                  2020貿易戰降溫 ### 省略內文 ### 配發順序優於普通股。                     []  \n",
       "13  ▲（圖／彭世杰攝）店面「遍地插秧」！陷入「賣不動 ### 省略內文 ### 因此日常開支總是...                     []  \n",
       "14  台北地院審理生產東亞燈具的上市公司中國電器掏空案 ### 省略內文 ### 掏空公司資產2億...  ['周麗真', '張志偉', '陳逢璿']  \n",
       "15        foodpanda爭議不斷 ### 省略內文 ### 協助員工進行勞資爭議申請與調解。                     []  \n",
       "16  0台股台股盤勢【倫元投顧】碎步盤堅到月底Fed降息前後倫元投顧※來源：倫元投顧2019/07...                     []  \n",
       "17                  自稱房產幽默大師的王派宏 ### 省略內文 ### 能夠盡早面對。                ['王派宏']  \n",
       "18  2019.12.19 04:34【如興遭檢舉1】牛仔褲大廠小股東控訴如興股價被干擾害他慘套牢...                     []  \n",
       "19  (08:32) prevnext上午8時天文台錄得氣溫27度 ### 省略內文 ### 天氣稍涼。                     []  "
      ]
     },
     "execution_count": 3,
     "metadata": {},
     "output_type": "execute_result"
    }
   ],
   "source": [
    "df.head(20)"
   ]
  },
  {
   "cell_type": "code",
   "execution_count": 4,
   "metadata": {},
   "outputs": [
    {
     "name": "stdout",
     "output_type": "stream",
     "text": [
      "41\n",
      "http://news.ltn.com.tw/news/society/breakingnews/2673439\n",
      "〔記者楊國文／台北報導〕「台灣第一家」有限公司 ### 省略內文 ### 或追徵。\n",
      "['陳鏡如', '陳星佑']\n"
     ]
    }
   ],
   "source": [
    "print(df['news_ID'][40])\n",
    "print(df['hyperlink'][40])\n",
    "print(df['content'][40])\n",
    "print(df['name'][40])"
   ]
  },
  {
   "cell_type": "code",
   "execution_count": 5,
   "metadata": {},
   "outputs": [],
   "source": [
    "from urllib import parse\n",
    "def getdomainName(url):\n",
    "        parseResult = parse.urlparse(url)\n",
    "        #print(parseResult,type(parseResult)) \n",
    "        #ParseResult(scheme='https', netloc='www.mirrormedia.mg', path='/story/20191021ent001/', params='', query='', fragment='') <class 'urllib.parse.ParseResult'>\n",
    "        #print(parseResult.scheme+'://'+parseResult.netloc)\n",
    "        return parseResult.scheme+'://'+parseResult.netloc"
   ]
  },
  {
   "cell_type": "code",
   "execution_count": 6,
   "metadata": {},
   "outputs": [],
   "source": [
    "items = []\n",
    "current = 0\n",
    "while current < len(df['news_ID']):\n",
    "    items.append({\n",
    "      \"pid\": df['news_ID'][current],\n",
    "      \"link\":df['hyperlink'][current],\n",
    "      \"title\":df['content'][current],\n",
    "      \"context\":df['content'][current],\n",
    "      \"name\":df['name'][current]\n",
    "    })\n",
    "    current+=1"
   ]
  },
  {
   "cell_type": "code",
   "execution_count": 7,
   "metadata": {},
   "outputs": [
    {
     "name": "stdout",
     "output_type": "stream",
     "text": [
      "10月13日晚間發生Uber Eats黃姓外送人員職災死亡案件 \n",
      " 北市政府今日下午也跨局處召開「外送人員保障專案會議」。圖／台北市勞動局提供\n"
     ]
    }
   ],
   "source": [
    "#10月13日晚間發生Uber Eats黃姓外送人員職災死亡案件 ### 省略內文 ### 北市政府今日下午也跨局處召開「外送人員保障專案會議」。圖／台北市勞動局提供\n",
    "print(items[1]['title'].split('###')[0])\n",
    "print(items[1]['title'].split('###')[2])"
   ]
  },
  {
   "cell_type": "code",
   "execution_count": 8,
   "metadata": {},
   "outputs": [],
   "source": [
    "hyperlinkOnlyDomain=[]\n",
    "for item in items:\n",
    "    hyperlinkOnlyDomain.append(getdomainName(item['link'])) #我想知道這個比賽用到幾個網站的資料"
   ]
  },
  {
   "cell_type": "code",
   "execution_count": 9,
   "metadata": {},
   "outputs": [
    {
     "name": "stdout",
     "output_type": "stream",
     "text": [
      "hyperlinkOnlyDomain size 5023\n",
      "hyperlinkOnlyDomainSet size 41\n"
     ]
    }
   ],
   "source": [
    "print('hyperlinkOnlyDomain size',len(hyperlinkOnlyDomain))\n",
    "hyperlinkOnlyDomainSet = set(hyperlinkOnlyDomain)\n",
    "print('hyperlinkOnlyDomainSet size',len(hyperlinkOnlyDomainSet))"
   ]
  },
  {
   "cell_type": "code",
   "execution_count": 10,
   "metadata": {},
   "outputs": [
    {
     "name": "stdout",
     "output_type": "stream",
     "text": [
      "Requirement already satisfied: pyquery in c:\\users\\u0151051\\anaconda3\\lib\\site-packages (1.4.1)\n",
      "Requirement already satisfied: lxml>=2.1 in c:\\users\\u0151051\\anaconda3\\lib\\site-packages (from pyquery) (4.3.2)\n",
      "Requirement already satisfied: cssselect>0.7.9 in c:\\users\\u0151051\\anaconda3\\lib\\site-packages (from pyquery) (1.1.0)\n"
     ]
    },
    {
     "name": "stderr",
     "output_type": "stream",
     "text": [
      "WARNING: You are using pip version 19.3.1; however, version 20.1.1 is available.\n",
      "You should consider upgrading via the 'python -m pip install --upgrade pip' command.\n"
     ]
    }
   ],
   "source": [
    "!pip install pyquery"
   ]
  },
  {
   "cell_type": "code",
   "execution_count": 37,
   "metadata": {},
   "outputs": [],
   "source": [
    "from selenium import webdriver\n",
    "import re\n",
    "from pyquery import PyQuery\n",
    "\n",
    "def main():\n",
    "    driver = webdriver.Chrome()\n",
    "    driver.get('https://www.tee.com/index')\n",
    "    html = driver.page_source\n",
    "    return html\n",
    "\n",
    "\n",
    "#过滤HTML中的标签\n",
    "# 将HTML中标签等信息去掉\n",
    "# @param htmlstr HTML字符串.\n",
    "def filter_tags(htmlstr):\n",
    "    # 先过滤CDATA\n",
    "    re_title = re.compile('<\\s*title[^>]*>[^<]*<\\s*/\\s*title\\s*>', re.I)\n",
    "    re_meta = re.compile('<meta\\s*?>')\n",
    "    re_meta2 = re.compile('<meta\\s*?/?>')\n",
    "    re_cdata = re.compile('//<!\\[CDATA\\[[^>]*//\\]\\]>', re.I)  # 匹配CDATA\n",
    "    re_script = re.compile('\\s*<\\s*script[^>]*>[^<]*<\\s*/\\s*script\\s*>', re.I)  # Script\n",
    "    re_style = re.compile('<\\s*style[^>]*>[^<]*<\\s*/\\s*style\\s*>', re.I)  # style\n",
    "    re_br = re.compile('<br\\s*?/?>')  # 处理换行\n",
    "    re_h = re.compile('</?\\w+[^>]*>')  # HTML标签\n",
    "    re_comment = re.compile('<!--[^>]*-->')  # HTML注释\n",
    "    s = re_cdata.sub('', htmlstr)  # 去掉CDATA\n",
    "    s = re_title.sub('', s)  # 去掉SCRIPT\n",
    "    s = re_meta.sub('', s)  # 去掉SCRIPT\n",
    "    s = re_meta2.sub('', s)  # 去掉SCRIPT\n",
    "    s = re_script.sub('', s)  # 去掉SCRIPT\n",
    "    s = re_style.sub('', s)  # 去掉style\n",
    "    s = re_h.sub('', s)  # 去掉HTML 标签\n",
    "    s = re_comment.sub('', s)  # 去掉HTML注释\n",
    "    s = re_br.sub('\\n', s)  # 将br转换为换行\n",
    "    # 去掉多余的空行\n",
    "    blank_line = re.compile('\\n+')\n",
    "    s = blank_line.sub('\\n', s)\n",
    "    s = replaceCharEntity(s)  # 替换实体\n",
    "    return s\n",
    "\n",
    "\n",
    "##替换常用HTML字符实体.\n",
    "# 使用正常的字符替换HTML中特殊的字符实体.\n",
    "# 你可以添加新的实体字符到CHAR_ENTITIES中,处理更多HTML字符实体.\n",
    "# @param htmlstr HTML字符串.\n",
    "def replaceCharEntity(htmlstr):\n",
    "    CHAR_ENTITIES = {'nbsp': ' ', '160': ' ',\n",
    "                     'lt': '<', '60': '<',\n",
    "                     'gt': '>', '62': '>',\n",
    "                     'amp': '&', '38': '&',\n",
    "                     'quot': '\"', '34': '\"', }\n",
    "\n",
    "    re_charEntity = re.compile(r'&#?(?P<name>\\w+);')\n",
    "    sz = re_charEntity.search(htmlstr)\n",
    "    while sz:\n",
    "        entity = sz.group()  # entity全称，如&gt;\n",
    "        key = sz.group('name')  # 去除&;后entity,如&gt;为gt\n",
    "        try:\n",
    "            htmlstr = re_charEntity.sub(CHAR_ENTITIES[key], htmlstr, 1)\n",
    "            sz = re_charEntity.search(htmlstr)\n",
    "        except KeyError:\n",
    "            # 以空串代替\n",
    "            htmlstr = re_charEntity.sub('', htmlstr, 1)\n",
    "            sz = re_charEntity.search(htmlstr)\n",
    "    return htmlstr\n",
    "\n",
    "\n",
    "def repalce(s, re_exp, repl_string):\n",
    "    return re_exp.sub(repl_string, s)\n",
    "\n",
    "def repalcescript(content):\n",
    "    soup = BeautifulSoup(content,\"html.parser\")\n",
    "    [s.extract() for s in soup('script')]\n",
    "    [s.extract() for s in soup('style')]\n",
    "    return soup.text\n"
   ]
  },
  {
   "cell_type": "code",
   "execution_count": 38,
   "metadata": {},
   "outputs": [
    {
     "data": {
      "text/plain": [
       "'sss'"
      ]
     },
     "execution_count": 38,
     "metadata": {},
     "output_type": "execute_result"
    }
   ],
   "source": [
    "repalcescript('<script>dddd</script>sss')"
   ]
  },
  {
   "cell_type": "code",
   "execution_count": 39,
   "metadata": {},
   "outputs": [
    {
     "name": "stdout",
     "output_type": "stream",
     "text": [
      "http://news.ltn.com.tw/news/society/breakingnews/2920533\n",
      "html_data: 倒「ㄆㄨㄣ」又揹農藥桶噴不明液體惡鄰恐嚇鄰居判刑2月-社會-自由時報電子報為達最佳瀏覽效果，建議使用Chrome、Firefox或MicrosoftEdge的瀏覽器。請至Edge官網下載請至FireFox官網下載請至Google官網下載即時熱門政治社會生活健康國際地方蒐奇影音財經娛樂寵伴汽車時尚體育3C評論玩咖食譜地產專區TAIPEITIMES求職爆進階查詢~*每次查詢區間最長為三個月Search自由電子報自由影音即時熱門政治社會生活國際地方蒐奇財經娛樂汽車時尚體育3C評論玩咖食譜寵伴健康地產專區服務自由電子報APP自由電子報粉絲團自由電子報Line熱門新訊限制級您即將進入之新聞內容需滿18歲方可瀏覽。未滿18歲或不同意本條款離開我同意我已年滿18歲進入根據「電腦網路內容分級處理辦法」修正條文第六條第三款規定，已於網站首頁或各該限制級網頁，依台灣網站分級推廣基金會規定作標示。台灣網站分級推廣基金會（TICRF）網站：http://www.ticrf.org.tw首頁　>　社會倒「ㄆㄨㄣ」又揹農藥桶噴不明液體惡鄰恐嚇鄰居判刑2月吳男揹著農藥桶噴霧桶噴鄰居。示意圖。（資料照）2019-09-1914:01:53〔記者王定傳／新北報導〕52歲吳姓男子因裝潢施工問題與鄰居相處不睦，竟連續3天在樓梯間倒廚餘，他因此被罰1萬元後，仍不知悔改，改揹農用噴灑器，朝陳姓與黃姓住戶噴灑不明液體，其中一名被害者至今仍會做惡夢，吳男否認犯行，新北地院不採信，依恐嚇危害安全罪，判他2個月徒刑，可上訴。檢警調查，2017年底，吳男買下新北市永和區某頂樓舊公寓後，想裝潢成套房出租，因裝潢工程未經許可被鄰居檢舉；去年5月，他為報復鄰居，連續3天在1至4樓樓梯間傾倒廚餘，法院認定吳男所為已違反社會秩序維護法中的「藉端滋擾住戶」裁罰1萬元。請繼續往下閱讀...吳男仍不知悔改，去年10月23日，改揹農用噴灑器，朝著陳、黃兩位鄰居噴灑不明液體，2人嚇傻，其中一人至今仍會因此做惡夢，整個晚上都無法入眠，另一人則說很害怕吳男噴灑農藥，擔心生命或健康受到危險。檢方偵辦時，吳男辯稱，噴灑的不明液體只是水，由於檢方無法證明噴出的不明液體對人體有害，僅能依恐嚇危害安全罪嫌起訴；審理時，他仍辯稱沒有噴灑不明液體，亦無恐嚇之意。不過，除被害者指證歷歷外，法官還查出，吳男之前就曾與不明男子在樓梯間噴灑農藥，另外，勘驗案發時監視器畫面可知，陳姓女住戶當時背著幼童走下樓梯，吳男卻朝她及空中高舉噴灑器噴頭，被害者立即以手遮住幼童口鼻並折返，吳男仍持續朝她的方向及空中高舉噴灑器噴頭。法官判定，吳男藉由噴灑不明液體方式恐嚇住戶，顯見其自我情緒管理能力及尊重他人法益法治觀念，均待加強，犯罪後矢口否認犯行，未與被害者和解，判刑2月，可上訴。不用抽不用搶現在用APP看新聞保證天天中獎　點我下載APP　按我看活動辦法社會今日熱門2020-07-1205:30建商闖禍地面塌大洞//永和急撤116戶196人2020-07-1205:30用眼猥褻沒動手醫學碩士判坐牢2020-07-1205:30眼睛偷窺「三點」刑責比偷拍還重2020-07-1205:30婦遭推拿師性侵不惜「再一次」蒐證yes123徵才補助LTN集點大放送網友回應2020年7月13日‧星期一‧庚子年五月廿三日熱門新聞染愛滋失聯女移工桃園找到人！有4台籍男友、每週到嘉義找男友參加武漢肺炎派對後確診美30歲男子病逝前遺言：我錯了台海軍情》中共沒時間優勢！美記者：守住澎湖就能擋下武統鄱陽湖水位暴漲超越1998洪災高點！江西防洪進入「戰時狀態」北車大廳不禁止席地而坐！笑臉貼地板外籍移工回來了熱門新訊匯泰鴻在建國長春角地引爆置產熱男人要有競爭力！就要體力、活力、爆發力！修平科大安定國小散田跨域實踐共創社區價值遠傳電信109年6月份營利概況(自結)熱門關鍵字即時熱門政治社會生活國際地方蒐奇影音財經娛樂寵伴汽車時尚體育3C評論玩咖食譜健康地產專區TAIPEITIMES．廣告．熱門新訊．發票．樂透．徵才．RSS．關於我們．聯絡我們．著作權聲明．隱私權政策　．訂報．投稿．聯邦文教基金會．林榮三文學獎．聯邦銀行．瓏山林台北中和飯店．瓏山林蘇澳冷熱泉度假飯店．自由廣場會議中心．yes123求職網自由時報版權所有不得轉載©2020TheLibertyTimes.AllRightsReserved.此網頁已閒置超過5分鐘，請點擊透明黑底或右下角Ｘ鈕。熱門推播公立托嬰中心幼童爆哭被打傷台東傳托育人員不當照顧民主派初選初估近60萬人投票黃之鋒賀「香港人好勁」小客車往觀音山撞電桿翻車女困車內當場死、男重傷急救CorollaCross與Venue導入國產跨界SUV預約年底大戰！中職》林立關鍵超前轟桃猿力阻兄弟封王熱啊！南投今飆39度又奪全國最高溫【時尚前後台】林志玲美背全裸、張鈞甯「深V到肚臍」北影最辣！多到「跌破眼鏡」！香港民主派初選總投票數衝破50萬人無畏國安法清算！「桃姐」葉德嫺陪黃之鋒拉票：港人心未死紓解領振興券人潮中華郵政明起開放網路、電話預約\n",
      "parse done\n"
     ]
    }
   ],
   "source": [
    "#coding:utf-8\n",
    "#65001\n",
    "import urllib.request\n",
    "import requests\n",
    "import json\n",
    "import codecs\n",
    "import sys\n",
    "import argparse as ap\n",
    "import time\n",
    "import datetime\n",
    "from urllib.parse import quote\n",
    "from bs4 import BeautifulSoup\n",
    "\n",
    "def start_requests():\n",
    "    counts=0\n",
    "    parseContent(items[22],counts)\n",
    "    counts=counts+1\n",
    "\n",
    "def request_uri(uri):\n",
    "    header = {\"User-Agent\": 'Mozilla/5.0 (Windows NT 10.0; WOW64; rv:51.0)'}\n",
    "    rs = requests.session()\n",
    "    res = rs.get(uri, headers=header)\n",
    "    if res.encoding=='MS950':\n",
    "        res.encoding = 'MS950'\n",
    "    else:\n",
    "        res.encoding = 'utf-8'\n",
    "    #print('encoding:',res.encoding)\n",
    "    html_data =  res.text\n",
    "    return html_data\n",
    "\n",
    "def parseContent(item,counts):\n",
    "    errorcount=0\n",
    "    try:\n",
    "        html_data =  request_uri(item['link'])\n",
    "        print(item['link'])\n",
    "        html_data=repalcescript(html_data)\n",
    "        html_data=filter_tags(html_data).replace(\" \", \"\").replace(\"\\n\", \"\").replace(\"\\r\", \"\")\n",
    "        print('html_data:',html_data)\n",
    "        #print(item['link'])<meta\n",
    "        #print(item['title'])\n",
    "        #print(item['title'].split('###')[0][-5:-1].replace(\" \", \"\"))\n",
    "        #print(item['title'].split('###')[2][0:4].replace(\" \", \"\"))\n",
    "        #print('---'*50)\n",
    "        aryTemp01 = html_data.split(item['title'].split('###')[0][-5:-1].replace(\" \", \"\"))        \n",
    "        if aryTemp01[1].find('<meta')!=-1:\n",
    "            aryTemp01 = html_data.split(item['title'].split('###')[0][-5:-1].replace(\" \", \"\"),2)\n",
    "            #print('aryTemp01[2]',aryTemp01)    \n",
    "            #print('---'*50)\n",
    "            aryTemp02=aryTemp01[2].split(item['title'].split('###')[2][0:4].replace(\" \", \"\"))\n",
    "        else:\n",
    "            #print('aryTemp01[1]',aryTemp01)    \n",
    "            #print('---'*50)\n",
    "            aryTemp02=aryTemp01[1].split(item['title'].split('###')[2][0:4].replace(\" \", \"\"))\n",
    "\n",
    "        #print('---'*50)\n",
    "        #print('aryTemp01[2]',aryTemp02)\n",
    "        soup = BeautifulSoup(aryTemp02[0],\"html.parser\") #html.parser 是一個固定的值，是一個解析器\n",
    "        #print(str(item['title'].split('###')[0])+soup.text.replace(\"\\n\", \"\").replace(\"\\r\", \"\")+str(item['title'].split('###')[2]))\n",
    "        items[counts]['context']=str(item['title'].split('###')[0])+soup.text.replace(\"\\n\", \"\").replace(\"\\r\", \"\")+str(item['title'].split('###')[2])\n",
    "    except Exception as e:\n",
    "        print('pid:',item['pid'],'/',item['link'],e)\n",
    "        print(item['title'].split('###')[0][-5:-1].replace(\" \", \"\"))\n",
    "        print(item['title'].split('###')[2][0:4].replace(\" \", \"\"))\n",
    "        errorcount+=1\n",
    "        print('---'*50)\n",
    "\n",
    "start_requests();\n",
    "print('parse done')\n",
    "\n"
   ]
  },
  {
   "cell_type": "code",
   "execution_count": null,
   "metadata": {},
   "outputs": [],
   "source": []
  }
 ],
 "metadata": {
  "kernelspec": {
   "display_name": "Python 3",
   "language": "python",
   "name": "python3"
  },
  "language_info": {
   "codemirror_mode": {
    "name": "ipython",
    "version": 3
   },
   "file_extension": ".py",
   "mimetype": "text/x-python",
   "name": "python",
   "nbconvert_exporter": "python",
   "pygments_lexer": "ipython3",
   "version": "3.7.3"
  }
 },
 "nbformat": 4,
 "nbformat_minor": 2
}
